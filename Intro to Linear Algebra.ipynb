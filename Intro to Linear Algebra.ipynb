{
 "cells": [
  {
   "cell_type": "markdown",
   "id": "96317106-acde-459e-b295-10f02dba850d",
   "metadata": {},
   "source": [
    "### Introduction to Linear Algebra"
   ]
  },
  {
   "cell_type": "markdown",
   "id": "c2dd77d0-70aa-416a-8ea1-6028ca1b54b7",
   "metadata": {},
   "source": [
    "Matrices are 2-dimensional objects that has rows and columns.\n",
    "\n",
    "A matrix is a collection of numbers ordered in rows and columns. It is similar to tables and spreadsheets. \n",
    "\n",
    "Each value in the matrix is an element of the matrix put in a bracket.\n",
    "\n",
    "Rows and columns are the two dimensions of a matrix.\n",
    "Two matrices can be summed, subtracted, multiplied and be divided.\n",
    "\n",
    "A Matrix can only contain numbers, symbols or expressions. It can be of any size.\n",
    "\n",
    "If A = m x n => it means m rows annd n columns\n",
    "\n",
    "In most programming languages, array start from zero rather than one"
   ]
  },
  {
   "cell_type": "markdown",
   "id": "23385a5e-9227-4f02-a720-149c92dce5a9",
   "metadata": {},
   "source": [
    "#### Scalars and Vectors"
   ]
  },
  {
   "cell_type": "markdown",
   "id": "0051f1c9-b20d-4dbd-80e6-4a4a25b5cb4d",
   "metadata": {},
   "source": [
    "Scalars: \n",
    "\n",
    "A matrix with one row and one column. All numbers we know from algebra are referred to as scalars in linear algebra. They are objects with no dimensions. They have a 1 x 1 dimension\n",
    "\n",
    "Vectors: \n",
    "\n",
    "They sit somewhere between scalars and matrices as they have one dimension. A vector is practically the simplest linear algebraic object. Matrix is a collection of vectors.\n",
    "\n",
    "Types of vectors:\n",
    "- Row Vectors\n",
    "- Column Vectors\n",
    "\n",
    "The number of elements a vector contains are know as the length of the vector.\n",
    "\n",
    "Summary:\n",
    "\n",
    ". Matrix: m x n - 2 dimensions\n",
    ". Vector: m x 1 -  1 dimension\n",
    ". Scalar: 1 x 1 -  0 dimension"
   ]
  },
  {
   "cell_type": "markdown",
   "id": "2ef405cc-58d1-4800-bf0a-cd0c72e67a58",
   "metadata": {},
   "source": [
    "#### Linear Algebra and Geometry\n",
    "\n",
    "Mathematics works based on analogies. With linear algebra that is extremely relevant.\n",
    "\n",
    "A point is the simplest object in terms of geometry. It has no direction or size. A scalar is like a point.\n",
    "\n",
    "A vector has one dimension - like a line. It has a direction. The only way to get from a line to a plane is by crossing two lines. 2D space is defined by 2 lines. A matrix is a collection of vectors\n",
    "\n",
    "A free online tool to play around with is a 3D vector plotter - academo.org. It allows us to create all kinds of matrices upto 3 x 3. In this way, you get a better grasp of the geometrical concept."
   ]
  },
  {
   "cell_type": "markdown",
   "id": "9d4c1983-b4c2-41a7-b0c5-1be124d619d4",
   "metadata": {},
   "source": [
    "### Scalars, Vectors, and Matrices as Python Arrays\n",
    "\n",
    "The simplest most flexible way to work with matrices in Python is by using arrays"
   ]
  },
  {
   "cell_type": "code",
   "execution_count": 1,
   "id": "df7f82c9-37b1-4892-a7d7-a86718c0d7a3",
   "metadata": {},
   "outputs": [],
   "source": [
    "#import the relevant libraries\n",
    "import numpy as np"
   ]
  },
  {
   "cell_type": "markdown",
   "id": "01831d26-f00c-4b70-b931-543365f764c4",
   "metadata": {},
   "source": [
    "#### Declaring scalars, vectors and matrices"
   ]
  },
  {
   "cell_type": "markdown",
   "id": "15eb8c11-f199-43a7-96a5-fce8846a00cd",
   "metadata": {},
   "source": [
    "#### Scalars"
   ]
  },
  {
   "cell_type": "code",
   "execution_count": 2,
   "id": "ddb53926-b05b-4084-9497-f55ff9267d8f",
   "metadata": {},
   "outputs": [],
   "source": [
    "s = 5"
   ]
  },
  {
   "cell_type": "code",
   "execution_count": 3,
   "id": "40068c46-9fb7-4a35-a0d0-cf0dc173acd5",
   "metadata": {},
   "outputs": [
    {
     "data": {
      "text/plain": [
       "5"
      ]
     },
     "execution_count": 3,
     "metadata": {},
     "output_type": "execute_result"
    }
   ],
   "source": [
    "s"
   ]
  },
  {
   "cell_type": "markdown",
   "id": "f07f3ad5-be71-4c36-ba27-0933cc71b7d3",
   "metadata": {},
   "source": [
    "#### Vectors"
   ]
  },
  {
   "cell_type": "code",
   "execution_count": 4,
   "id": "404a0944-d0d8-4f43-adee-fad3266f1af9",
   "metadata": {},
   "outputs": [],
   "source": [
    "v = np.array([5, -2, 4]) # () brackets for the np array and [] for the vector"
   ]
  },
  {
   "cell_type": "code",
   "execution_count": 5,
   "id": "b83e9973-39af-42b8-a8f4-c0310e06aa99",
   "metadata": {},
   "outputs": [
    {
     "data": {
      "text/plain": [
       "array([ 5, -2,  4])"
      ]
     },
     "execution_count": 5,
     "metadata": {},
     "output_type": "execute_result"
    }
   ],
   "source": [
    "v # v is a row vector"
   ]
  },
  {
   "cell_type": "markdown",
   "id": "cf46abdf-eeb9-4502-9b1b-cd84a512b02f",
   "metadata": {},
   "source": [
    "#### Matrices"
   ]
  },
  {
   "cell_type": "code",
   "execution_count": 6,
   "id": "fa2b7a53-525b-4350-9c3f-24c2616b9e8f",
   "metadata": {},
   "outputs": [],
   "source": [
    "m = np.array([[5, 12, 6], [-3, 0, 14]])"
   ]
  },
  {
   "cell_type": "code",
   "execution_count": 7,
   "id": "465e362e-d30b-44d1-8d8a-eccf06665518",
   "metadata": {},
   "outputs": [
    {
     "data": {
      "text/plain": [
       "array([[ 5, 12,  6],\n",
       "       [-3,  0, 14]])"
      ]
     },
     "execution_count": 7,
     "metadata": {},
     "output_type": "execute_result"
    }
   ],
   "source": [
    "m"
   ]
  },
  {
   "cell_type": "markdown",
   "id": "9b20038a-f4b7-45e8-88f1-9687b4d218b4",
   "metadata": {},
   "source": [
    "#### Data type"
   ]
  },
  {
   "cell_type": "code",
   "execution_count": 8,
   "id": "0491c8b1-dae8-47ce-a018-0571105a3d73",
   "metadata": {},
   "outputs": [
    {
     "data": {
      "text/plain": [
       "int"
      ]
     },
     "execution_count": 8,
     "metadata": {},
     "output_type": "execute_result"
    }
   ],
   "source": [
    "type(s) # returns the data type of a given variable"
   ]
  },
  {
   "cell_type": "code",
   "execution_count": 9,
   "id": "bb2f5c5c-1873-4fc7-a41f-0fccd2d04758",
   "metadata": {},
   "outputs": [
    {
     "data": {
      "text/plain": [
       "numpy.ndarray"
      ]
     },
     "execution_count": 9,
     "metadata": {},
     "output_type": "execute_result"
    }
   ],
   "source": [
    "type (v) # 1D array"
   ]
  },
  {
   "cell_type": "code",
   "execution_count": 10,
   "id": "e5532a01-39ff-4ef4-b51b-0f6e7e835d06",
   "metadata": {},
   "outputs": [
    {
     "data": {
      "text/plain": [
       "numpy.ndarray"
      ]
     },
     "execution_count": 10,
     "metadata": {},
     "output_type": "execute_result"
    }
   ],
   "source": [
    "type(m) # 2D array"
   ]
  },
  {
   "cell_type": "code",
   "execution_count": 11,
   "id": "5fa403ab-26ad-4e5a-91c3-8e93209b8078",
   "metadata": {},
   "outputs": [
    {
     "data": {
      "text/plain": [
       "array(5)"
      ]
     },
     "execution_count": 11,
     "metadata": {},
     "output_type": "execute_result"
    }
   ],
   "source": [
    "# if we want s to be consistent with the others, we can declare it as an array too\n",
    "\n",
    "s_array = np.array(5)\n",
    "s_array"
   ]
  },
  {
   "cell_type": "code",
   "execution_count": 12,
   "id": "fd659ec0-6d8c-4d8b-85e9-bcbcf20e8386",
   "metadata": {},
   "outputs": [
    {
     "data": {
      "text/plain": [
       "numpy.ndarray"
      ]
     },
     "execution_count": 12,
     "metadata": {},
     "output_type": "execute_result"
    }
   ],
   "source": [
    "type(s_array)"
   ]
  },
  {
   "cell_type": "markdown",
   "id": "c6d7bd3b-d454-4dc7-b68d-691daf2c153d",
   "metadata": {},
   "source": [
    "#### Data shapes"
   ]
  },
  {
   "cell_type": "code",
   "execution_count": 13,
   "id": "5dcbb3f8-f2a6-4ea7-812b-218d8eb525d6",
   "metadata": {},
   "outputs": [
    {
     "data": {
      "text/plain": [
       "(2, 3)"
      ]
     },
     "execution_count": 13,
     "metadata": {},
     "output_type": "execute_result"
    }
   ],
   "source": [
    "# shape returns the shape (diemensions) of a variable\n",
    "\n",
    "m.shape"
   ]
  },
  {
   "cell_type": "code",
   "execution_count": 14,
   "id": "df79e48e-7d3d-4f4b-8d76-5f726c159844",
   "metadata": {},
   "outputs": [
    {
     "data": {
      "text/plain": [
       "(3,)"
      ]
     },
     "execution_count": 14,
     "metadata": {},
     "output_type": "execute_result"
    }
   ],
   "source": [
    "v.shape # in the memory of the computer, this object has 3 elements"
   ]
  },
  {
   "cell_type": "code",
   "execution_count": 15,
   "id": "a405abda-7e13-446b-abc4-cabed9eed71d",
   "metadata": {},
   "outputs": [
    {
     "data": {
      "text/plain": [
       "()"
      ]
     },
     "execution_count": 15,
     "metadata": {},
     "output_type": "execute_result"
    }
   ],
   "source": [
    "# s.shape returns a error because int objects has no attribute 'shape'\n",
    "s_array.shape"
   ]
  },
  {
   "cell_type": "markdown",
   "id": "f93b0050-d331-416e-95d9-a5eb1205b30e",
   "metadata": {},
   "source": [
    "#### Creating a column vector"
   ]
  },
  {
   "cell_type": "code",
   "execution_count": 16,
   "id": "03fa41aa-79c0-482d-8a09-8ad1c4fe0d7d",
   "metadata": {},
   "outputs": [
    {
     "data": {
      "text/plain": [
       "array([[ 5, -2,  4]])"
      ]
     },
     "execution_count": 16,
     "metadata": {},
     "output_type": "execute_result"
    }
   ],
   "source": [
    "# reshape gives an array a new shape, without changing its data\n",
    "v.reshape(1, 3) # this gives a row vector"
   ]
  },
  {
   "cell_type": "code",
   "execution_count": 17,
   "id": "fd8adfe8-45d0-49b0-abbe-492393e9bc05",
   "metadata": {},
   "outputs": [
    {
     "data": {
      "text/plain": [
       "array([[ 5],\n",
       "       [-2],\n",
       "       [ 4]])"
      ]
     },
     "execution_count": 17,
     "metadata": {},
     "output_type": "execute_result"
    }
   ],
   "source": [
    "v.reshape(3, 1) # this gives a column vector"
   ]
  },
  {
   "cell_type": "markdown",
   "id": "eed7b389-0811-4a01-9499-f9988f83c228",
   "metadata": {},
   "source": [
    "#### What is a Tensor"
   ]
  },
  {
   "cell_type": "markdown",
   "id": "6bfc0dbf-3bab-45a9-8e5d-1c112fcfe62e",
   "metadata": {},
   "source": [
    "Tensorflow: A state of the art deep learning framework developed by google. It works with tensors\n",
    "\n",
    "Tensor: It is the most general concept. Scalars, Vectors and Matrices are all Tensors of Rank 0, 1, 2 respectively. It is a generalization of the concepts we have seen so far.\n",
    "\n",
    "Tensor Rank 3 => k x m x n. It can be thought of a collection of matrices.\n",
    "\n",
    "Tensors can be stored in and arrays"
   ]
  },
  {
   "cell_type": "markdown",
   "id": "1a370cd2-b073-414f-9b37-895ca7fe1464",
   "metadata": {},
   "source": [
    "#### Creating a tensor"
   ]
  },
  {
   "cell_type": "code",
   "execution_count": 18,
   "id": "d8d46625-446d-4cb1-af61-3b69c9778430",
   "metadata": {},
   "outputs": [
    {
     "data": {
      "text/plain": [
       "array([[ 5, 12,  6],\n",
       "       [-3,  0, 14]])"
      ]
     },
     "execution_count": 18,
     "metadata": {},
     "output_type": "execute_result"
    }
   ],
   "source": [
    "m1 = np.array([[5, 12, 6], [-3, 0, 14]]) \n",
    "m1"
   ]
  },
  {
   "cell_type": "code",
   "execution_count": 19,
   "id": "1bc5669a-6d54-4da6-aab4-40977798e7e2",
   "metadata": {},
   "outputs": [
    {
     "data": {
      "text/plain": [
       "array([[ 9,  8,  7],\n",
       "       [ 1,  3, -5]])"
      ]
     },
     "execution_count": 19,
     "metadata": {},
     "output_type": "execute_result"
    }
   ],
   "source": [
    "m2 = np.array([[9, 8,7], [1, 3, -5]]) \n",
    "m2"
   ]
  },
  {
   "cell_type": "code",
   "execution_count": 20,
   "id": "0e1a4cb6-d7f7-4106-bf3a-b00dcba5c962",
   "metadata": {},
   "outputs": [],
   "source": [
    "# create an array\n",
    "t = np.array([m1, m2])"
   ]
  },
  {
   "cell_type": "code",
   "execution_count": 21,
   "id": "86057883-8244-405c-8295-62d7a89eff17",
   "metadata": {},
   "outputs": [
    {
     "data": {
      "text/plain": [
       "array([[[ 5, 12,  6],\n",
       "        [-3,  0, 14]],\n",
       "\n",
       "       [[ 9,  8,  7],\n",
       "        [ 1,  3, -5]]])"
      ]
     },
     "execution_count": 21,
     "metadata": {},
     "output_type": "execute_result"
    }
   ],
   "source": [
    "t # t contains both matrices"
   ]
  },
  {
   "cell_type": "markdown",
   "id": "743b28bc-44c7-4092-aac0-e38d6010de36",
   "metadata": {},
   "source": [
    "#### Checking its shape"
   ]
  },
  {
   "cell_type": "code",
   "execution_count": 22,
   "id": "eed5dd27-8d87-44e5-813b-4b2ed6844acc",
   "metadata": {},
   "outputs": [
    {
     "data": {
      "text/plain": [
       "(2, 2, 3)"
      ]
     },
     "execution_count": 22,
     "metadata": {},
     "output_type": "execute_result"
    }
   ],
   "source": [
    "t.shape"
   ]
  },
  {
   "cell_type": "markdown",
   "id": "a5b42d8d-a7fa-4edd-998a-e078655d909f",
   "metadata": {},
   "source": [
    "#### Manually creating a tensor\n",
    "\n",
    "To manually create a tensor, we need to write the line of code."
   ]
  },
  {
   "cell_type": "code",
   "execution_count": 23,
   "id": "a0797037-89c0-492b-90c8-8b801a23b3e0",
   "metadata": {},
   "outputs": [],
   "source": [
    "t_manual = np.array([[[5, 12, 6], [-3, 0, 14]], [[9, 8,7], [1, 3, -5]]])"
   ]
  },
  {
   "cell_type": "code",
   "execution_count": 24,
   "id": "06a76714-fe1a-4eb6-88cf-1210d003816b",
   "metadata": {},
   "outputs": [
    {
     "data": {
      "text/plain": [
       "array([[[ 5, 12,  6],\n",
       "        [-3,  0, 14]],\n",
       "\n",
       "       [[ 9,  8,  7],\n",
       "        [ 1,  3, -5]]])"
      ]
     },
     "execution_count": 24,
     "metadata": {},
     "output_type": "execute_result"
    }
   ],
   "source": [
    "t_manual"
   ]
  },
  {
   "cell_type": "markdown",
   "id": "05045788-e7f1-489c-b084-f410f0fec98d",
   "metadata": {},
   "source": [
    "#### Adding and Subtraction\n",
    "\n",
    "Addition: \n",
    "\n",
    "1 condition: The two matrices must have the same dimensions."
   ]
  },
  {
   "cell_type": "code",
   "execution_count": 25,
   "id": "fdc4a217-c4d5-4fc8-906f-00badea856c1",
   "metadata": {},
   "outputs": [
    {
     "data": {
      "text/plain": [
       "array([[14, 20, 13],\n",
       "       [-2,  3,  9]])"
      ]
     },
     "execution_count": 25,
     "metadata": {},
     "output_type": "execute_result"
    }
   ],
   "source": [
    "m1 + m2"
   ]
  },
  {
   "cell_type": "markdown",
   "id": "45e6db20-b56b-4077-9db8-50f836af9d71",
   "metadata": {},
   "source": [
    "Subtraction: Same rule apply as addition\n",
    "\n",
    "#### Difference"
   ]
  },
  {
   "cell_type": "code",
   "execution_count": 26,
   "id": "233affe2-2d66-4a17-ab84-ad67eb8f2df4",
   "metadata": {},
   "outputs": [],
   "source": [
    "m3 = np.array([[5, 3], [-2, 4]])\n",
    "m4 = np.array([[7, -5], [3, 8]])"
   ]
  },
  {
   "cell_type": "code",
   "execution_count": 27,
   "id": "dd469315-e322-434c-b37d-9eadd98d774e",
   "metadata": {},
   "outputs": [
    {
     "data": {
      "text/plain": [
       "array([[ 5,  3],\n",
       "       [-2,  4]])"
      ]
     },
     "execution_count": 27,
     "metadata": {},
     "output_type": "execute_result"
    }
   ],
   "source": [
    "m3"
   ]
  },
  {
   "cell_type": "code",
   "execution_count": 28,
   "id": "32065c7c-20b7-432e-93a5-428a32425a48",
   "metadata": {},
   "outputs": [
    {
     "data": {
      "text/plain": [
       "array([[ 7, -5],\n",
       "       [ 3,  8]])"
      ]
     },
     "execution_count": 28,
     "metadata": {},
     "output_type": "execute_result"
    }
   ],
   "source": [
    "m4"
   ]
  },
  {
   "cell_type": "code",
   "execution_count": 29,
   "id": "dbe2ce9a-b88a-4176-a0c7-4032487fb5ab",
   "metadata": {},
   "outputs": [
    {
     "data": {
      "text/plain": [
       "array([[-2,  8],\n",
       "       [-5, -4]])"
      ]
     },
     "execution_count": 29,
     "metadata": {},
     "output_type": "execute_result"
    }
   ],
   "source": [
    "m3 - m4"
   ]
  },
  {
   "cell_type": "code",
   "execution_count": 30,
   "id": "25d422b2-7338-4661-9ac9-aab62c7dce37",
   "metadata": {},
   "outputs": [
    {
     "data": {
      "text/plain": [
       "array([[[  22.33,   -4.73],\n",
       "        [-203.14, 1200.02],\n",
       "        [   4.22,  234.1 ]]])"
      ]
     },
     "execution_count": 30,
     "metadata": {},
     "output_type": "execute_result"
    }
   ],
   "source": [
    "# Doing the same with floats\n",
    "\n",
    "m5 = np.array([[[22.33, -4.73], [-203.14, 1200.02], [4.22, 234.10]]])\n",
    "m5"
   ]
  },
  {
   "cell_type": "code",
   "execution_count": 31,
   "id": "c6fa4f65-95fd-405c-8a6e-1a5208e0e893",
   "metadata": {},
   "outputs": [
    {
     "data": {
      "text/plain": [
       "array([[[ 131.13,  448.29],\n",
       "        [-340.21,    1.06],\n",
       "        [  30.41,  424.99]]])"
      ]
     },
     "execution_count": 31,
     "metadata": {},
     "output_type": "execute_result"
    }
   ],
   "source": [
    "m6 = np.array([[[131.13, 448.29], [-340.21, 1.06], [30.41, 424.99]]])\n",
    "m6"
   ]
  },
  {
   "cell_type": "markdown",
   "id": "b5c0e94b-5193-4b35-8bd7-f50db7560d7e",
   "metadata": {},
   "source": [
    "Subtraction of Vectors: Same rules apply. \n",
    "\n",
    "With vectors, we only care about the length."
   ]
  },
  {
   "cell_type": "markdown",
   "id": "35304d78-3395-4173-a29e-979876c6e580",
   "metadata": {},
   "source": [
    "#### Adding Vectors together"
   ]
  },
  {
   "cell_type": "code",
   "execution_count": 32,
   "id": "161e40dd-1af7-485a-af92-f49839114f91",
   "metadata": {},
   "outputs": [],
   "source": [
    "v1 = np.array([1, 2, 3, 4, 5])\n",
    "v2 = np.array([5, 4, 3, 2, 1])"
   ]
  },
  {
   "cell_type": "code",
   "execution_count": 33,
   "id": "0f74ee06-1d98-4194-baa9-4edc1aa7ed94",
   "metadata": {},
   "outputs": [
    {
     "data": {
      "text/plain": [
       "array([6, 6, 6, 6, 6])"
      ]
     },
     "execution_count": 33,
     "metadata": {},
     "output_type": "execute_result"
    }
   ],
   "source": [
    "v1 + v2"
   ]
  },
  {
   "cell_type": "code",
   "execution_count": 34,
   "id": "f36cdbff-60b7-4b51-88e8-b459fafae7ab",
   "metadata": {},
   "outputs": [
    {
     "data": {
      "text/plain": [
       "array([-4, -2,  0,  2,  4])"
      ]
     },
     "execution_count": 34,
     "metadata": {},
     "output_type": "execute_result"
    }
   ],
   "source": [
    "# Subtraction\n",
    "v1 - v2 "
   ]
  },
  {
   "cell_type": "markdown",
   "id": "073a8d8c-df55-4dc5-a252-f2fb492b7eb7",
   "metadata": {},
   "source": [
    "#### Errors when Adding Matrices\n",
    "\n",
    "#### Addition of scalars"
   ]
  },
  {
   "cell_type": "code",
   "execution_count": 35,
   "id": "095e6756-0f6e-4ed0-8114-950210d4cff9",
   "metadata": {},
   "outputs": [
    {
     "data": {
      "text/plain": [
       "10"
      ]
     },
     "execution_count": 35,
     "metadata": {},
     "output_type": "execute_result"
    }
   ],
   "source": [
    "5 + 5"
   ]
  },
  {
   "cell_type": "code",
   "execution_count": 36,
   "id": "d7344269-b131-45d0-83d2-5f6fe8935697",
   "metadata": {},
   "outputs": [
    {
     "data": {
      "text/plain": [
       "6"
      ]
     },
     "execution_count": 36,
     "metadata": {},
     "output_type": "execute_result"
    }
   ],
   "source": [
    "10 - 4"
   ]
  },
  {
   "cell_type": "markdown",
   "id": "a0cc4995-285b-4787-b641-2ed41bc973ab",
   "metadata": {},
   "source": [
    "#### Addition of matrices\n",
    "\n",
    "In order to add vectors and matrices together, their forms must match. We are not allowed to add vectors of different length and matrices with different dimensions."
   ]
  },
  {
   "cell_type": "code",
   "execution_count": 37,
   "id": "564be3a6-232a-4b2f-a22e-3a52b13cfd42",
   "metadata": {},
   "outputs": [
    {
     "data": {
      "text/plain": [
       "array([[ 5, 12,  6],\n",
       "       [-3,  0, 14]])"
      ]
     },
     "execution_count": 37,
     "metadata": {},
     "output_type": "execute_result"
    }
   ],
   "source": [
    "m1 = np.array([[5, 12, 6], [-3, 0, 14]]) \n",
    "m1"
   ]
  },
  {
   "cell_type": "code",
   "execution_count": 38,
   "id": "6e035e0e-9185-4bf9-831c-433fa237b8df",
   "metadata": {},
   "outputs": [
    {
     "data": {
      "text/plain": [
       "array([[ 5,  3],\n",
       "       [-2,  4]])"
      ]
     },
     "execution_count": 38,
     "metadata": {},
     "output_type": "execute_result"
    }
   ],
   "source": [
    "m3 = np.array([[5, 3], [-2, 4]])\n",
    "m3"
   ]
  },
  {
   "cell_type": "code",
   "execution_count": 39,
   "id": "a19c0df6-6668-4399-a93c-3d6c053586b7",
   "metadata": {},
   "outputs": [
    {
     "ename": "ValueError",
     "evalue": "operands could not be broadcast together with shapes (2,3) (2,2) ",
     "output_type": "error",
     "traceback": [
      "\u001b[1;31m---------------------------------------------------------------------------\u001b[0m",
      "\u001b[1;31mValueError\u001b[0m                                Traceback (most recent call last)",
      "\u001b[1;32m~\\AppData\\Local\\Temp/ipykernel_16488/4119809935.py\u001b[0m in \u001b[0;36m<module>\u001b[1;34m\u001b[0m\n\u001b[1;32m----> 1\u001b[1;33m \u001b[0mm1\u001b[0m \u001b[1;33m+\u001b[0m \u001b[0mm3\u001b[0m \u001b[1;31m# the shapes are not the same. The same error we will get when we try to add 2 vectors with diferent length\u001b[0m\u001b[1;33m\u001b[0m\u001b[1;33m\u001b[0m\u001b[0m\n\u001b[0m",
      "\u001b[1;31mValueError\u001b[0m: operands could not be broadcast together with shapes (2,3) (2,2) "
     ]
    }
   ],
   "source": [
    "m1 + m3 # the shapes are not the same. The same error we will get when we try to add 2 vectors with diferent length"
   ]
  },
  {
   "cell_type": "markdown",
   "id": "3bd9335c-d095-476e-b464-a4a8c34cc106",
   "metadata": {},
   "source": [
    "#### Exceptions (addition with a scalar)\n",
    "\n",
    "We can add scalars to matrices and vectors"
   ]
  },
  {
   "cell_type": "code",
   "execution_count": 40,
   "id": "10370eee-1f59-4f1f-b5f5-496f38db9112",
   "metadata": {},
   "outputs": [
    {
     "data": {
      "text/plain": [
       "array([[ 5, 12,  6],\n",
       "       [-3,  0, 14]])"
      ]
     },
     "execution_count": 40,
     "metadata": {},
     "output_type": "execute_result"
    }
   ],
   "source": [
    "m1"
   ]
  },
  {
   "cell_type": "code",
   "execution_count": 41,
   "id": "06c13095-e0c0-4186-ac62-f04e22cff0d7",
   "metadata": {},
   "outputs": [
    {
     "data": {
      "text/plain": [
       "array([[ 6, 13,  7],\n",
       "       [-2,  1, 15]])"
      ]
     },
     "execution_count": 41,
     "metadata": {},
     "output_type": "execute_result"
    }
   ],
   "source": [
    "m1 + 1"
   ]
  },
  {
   "cell_type": "code",
   "execution_count": 42,
   "id": "0deea53b-bc3b-4582-873c-ac3d73466e96",
   "metadata": {},
   "outputs": [
    {
     "data": {
      "text/plain": [
       "array([1, 2, 3, 4, 5])"
      ]
     },
     "execution_count": 42,
     "metadata": {},
     "output_type": "execute_result"
    }
   ],
   "source": [
    "v1"
   ]
  },
  {
   "cell_type": "code",
   "execution_count": 43,
   "id": "c8907ad6-87d3-4091-aefb-791455eecf1c",
   "metadata": {},
   "outputs": [
    {
     "data": {
      "text/plain": [
       "array([2, 3, 4, 5, 6])"
      ]
     },
     "execution_count": 43,
     "metadata": {},
     "output_type": "execute_result"
    }
   ],
   "source": [
    "v1 + 1"
   ]
  },
  {
   "cell_type": "markdown",
   "id": "7be8988f-683d-47bb-a990-4045d062153d",
   "metadata": {},
   "source": [
    "The result has a meaning in terms of arrays but not in terms of linear algebra"
   ]
  },
  {
   "cell_type": "code",
   "execution_count": 44,
   "id": "9b7740ff-2f67-40ef-9434-d1712cb49533",
   "metadata": {},
   "outputs": [
    {
     "data": {
      "text/plain": [
       "array([[ 6, 13,  7],\n",
       "       [-2,  1, 15]])"
      ]
     },
     "execution_count": 44,
     "metadata": {},
     "output_type": "execute_result"
    }
   ],
   "source": [
    "m1 + np.array([1])"
   ]
  },
  {
   "cell_type": "code",
   "execution_count": 45,
   "id": "35250f2c-90a8-44c8-a8c8-3e17114face7",
   "metadata": {},
   "outputs": [
    {
     "data": {
      "text/plain": [
       "array([2, 3, 4, 5, 6])"
      ]
     },
     "execution_count": 45,
     "metadata": {},
     "output_type": "execute_result"
    }
   ],
   "source": [
    "v1 + np.array([1])"
   ]
  },
  {
   "cell_type": "markdown",
   "id": "1c68cc45-e7a8-4a67-8ef4-bcacd065e6fd",
   "metadata": {},
   "source": [
    "### Transpose of a Matrix\n",
    "\n",
    "#### Transposing Vectors\n",
    "\n",
    "Transposing a column vector (TX) will yield in a row vector (XT). Therefore, the column vector equals the row vector tranposed.\n",
    "\n",
    "Things to consider when transposing:\n",
    "- The values are not changing or transforming; only their position is.\n",
    "- Transposing the same vector twice yields the initial vector\n",
    "- A 3x1 matrix transposed is a 1x3 matrix\n",
    "\n",
    "#### Transposing Matrices\n",
    "\n",
    "Transposing a m x n matrix becomes a n x m matrix E.g A (2 x 3) becomes AT (3 x 2)."
   ]
  },
  {
   "cell_type": "markdown",
   "id": "0e9d7c0b-0249-413d-a51b-7b0a7e6ea5a9",
   "metadata": {},
   "source": [
    "#### Transposing matrices"
   ]
  },
  {
   "cell_type": "code",
   "execution_count": 46,
   "id": "112c0ed0-84d2-4f8a-99cc-26f7b5643e41",
   "metadata": {},
   "outputs": [
    {
     "data": {
      "text/plain": [
       "array([[ 5, 12,  6],\n",
       "       [-3,  0, 14]])"
      ]
     },
     "execution_count": 46,
     "metadata": {},
     "output_type": "execute_result"
    }
   ],
   "source": [
    "A = np.array([[5, 12, 6], [-3, 0, 14]])\n",
    "A"
   ]
  },
  {
   "cell_type": "code",
   "execution_count": 47,
   "id": "76490370-68b3-413f-b4e0-10c001e8a370",
   "metadata": {},
   "outputs": [
    {
     "data": {
      "text/plain": [
       "array([[ 5, -3],\n",
       "       [12,  0],\n",
       "       [ 6, 14]])"
      ]
     },
     "execution_count": 47,
     "metadata": {},
     "output_type": "execute_result"
    }
   ],
   "source": [
    "A.T"
   ]
  },
  {
   "cell_type": "code",
   "execution_count": 48,
   "id": "8818eb9e-fac9-4e4b-a84e-819d986e6801",
   "metadata": {},
   "outputs": [
    {
     "data": {
      "text/plain": [
       "array([[ 5,  3],\n",
       "       [-2,  4]])"
      ]
     },
     "execution_count": 48,
     "metadata": {},
     "output_type": "execute_result"
    }
   ],
   "source": [
    "B = np.array([[5, 3], [-2, 4]])\n",
    "B"
   ]
  },
  {
   "cell_type": "code",
   "execution_count": 49,
   "id": "224166ac-c8db-45dd-b032-3800b0d36e43",
   "metadata": {},
   "outputs": [
    {
     "data": {
      "text/plain": [
       "array([[ 5, -2],\n",
       "       [ 3,  4]])"
      ]
     },
     "execution_count": 49,
     "metadata": {},
     "output_type": "execute_result"
    }
   ],
   "source": [
    "B.T"
   ]
  },
  {
   "cell_type": "code",
   "execution_count": 50,
   "id": "4b6c4299-bb0b-4d33-b996-46178a9ef427",
   "metadata": {},
   "outputs": [
    {
     "data": {
      "text/plain": [
       "array([[ 4, -5],\n",
       "       [ 8, 12],\n",
       "       [-2,  3],\n",
       "       [19,  0]])"
      ]
     },
     "execution_count": 50,
     "metadata": {},
     "output_type": "execute_result"
    }
   ],
   "source": [
    "C = np.array([[4, -5], [8, 12], [-2, 3], [19, 0]])\n",
    "C"
   ]
  },
  {
   "cell_type": "code",
   "execution_count": 51,
   "id": "a83aa8b7-a3b5-4678-a258-d384b380a258",
   "metadata": {},
   "outputs": [
    {
     "data": {
      "text/plain": [
       "array([[ 4,  8, -2, 19],\n",
       "       [-5, 12,  3,  0]])"
      ]
     },
     "execution_count": 51,
     "metadata": {},
     "output_type": "execute_result"
    }
   ],
   "source": [
    "C.T"
   ]
  },
  {
   "cell_type": "markdown",
   "id": "0cb1c4f1-5741-47d2-b37e-3ed3af4967e2",
   "metadata": {},
   "source": [
    "#### Transposing scalars\n",
    "\n",
    "Any scalars when transposed equals itself"
   ]
  },
  {
   "cell_type": "code",
   "execution_count": 53,
   "id": "f8b76237-fa43-4bc1-8c14-4f007cf9e88a",
   "metadata": {},
   "outputs": [],
   "source": [
    "S = np.array([5])"
   ]
  },
  {
   "cell_type": "code",
   "execution_count": 54,
   "id": "c4f5b933-fc0f-4232-ac8d-4795b872beba",
   "metadata": {},
   "outputs": [
    {
     "data": {
      "text/plain": [
       "array([5])"
      ]
     },
     "execution_count": 54,
     "metadata": {},
     "output_type": "execute_result"
    }
   ],
   "source": [
    "S.T"
   ]
  },
  {
   "cell_type": "markdown",
   "id": "cb45b251-8d96-4e83-bae1-ebcd8619f0da",
   "metadata": {},
   "source": [
    "#### Transposing Vectors\n",
    "\n",
    "In Python, 1D arrays do not get transposed"
   ]
  },
  {
   "cell_type": "code",
   "execution_count": 55,
   "id": "8d68aaf2-d26f-4d23-ad67-4310b17df521",
   "metadata": {},
   "outputs": [
    {
     "data": {
      "text/plain": [
       "array([1, 2, 3])"
      ]
     },
     "execution_count": 55,
     "metadata": {},
     "output_type": "execute_result"
    }
   ],
   "source": [
    "x = np.array([1, 2, 3])\n",
    "x"
   ]
  },
  {
   "cell_type": "code",
   "execution_count": 56,
   "id": "474259e9-1fae-4984-98b7-78268b9201ef",
   "metadata": {},
   "outputs": [
    {
     "data": {
      "text/plain": [
       "array([1, 2, 3])"
      ]
     },
     "execution_count": 56,
     "metadata": {},
     "output_type": "execute_result"
    }
   ],
   "source": [
    "x.T"
   ]
  },
  {
   "cell_type": "code",
   "execution_count": 57,
   "id": "ab9bfea8-c656-43fc-8e3d-e1a04d38c9f4",
   "metadata": {},
   "outputs": [
    {
     "data": {
      "text/plain": [
       "(3,)"
      ]
     },
     "execution_count": 57,
     "metadata": {},
     "output_type": "execute_result"
    }
   ],
   "source": [
    "x.shape"
   ]
  },
  {
   "cell_type": "code",
   "execution_count": 58,
   "id": "35a13d91-bc7b-4b96-978c-897e319b72dc",
   "metadata": {},
   "outputs": [
    {
     "data": {
      "text/plain": [
       "array([[1, 2, 3]])"
      ]
     },
     "execution_count": 58,
     "metadata": {},
     "output_type": "execute_result"
    }
   ],
   "source": [
    "x_reshaped = x.reshape(1, 3)\n",
    "x_reshaped"
   ]
  },
  {
   "cell_type": "code",
   "execution_count": 59,
   "id": "cc0f8121-e07a-4144-a292-b882f6a5c17a",
   "metadata": {},
   "outputs": [
    {
     "data": {
      "text/plain": [
       "array([[1],\n",
       "       [2],\n",
       "       [3]])"
      ]
     },
     "execution_count": 59,
     "metadata": {},
     "output_type": "execute_result"
    }
   ],
   "source": [
    "x_reshaped.T"
   ]
  },
  {
   "cell_type": "markdown",
   "id": "736bbdc1-5f82-4a41-9f71-cdcabeb907f6",
   "metadata": {},
   "source": [
    "### Dot Product\n",
    "\n",
    "It is the sum of the product of multiplication of 2 or more elements.\n",
    "\n",
    "Scalar multiplication\n",
    "\n",
    "Vector multiplication: Multiplication of two vectors produces a scalar. The condition however is that the vectors must have the same length\n",
    "\n",
    "Types of product we can get:\n",
    "1. Dot Product (inner product): This is heavily used. Also known as scalar product.  The notation is a dot. Multiplying 2 vectors will produce a scalar.\n",
    "2. Tensor product(outer prodcut): Read on your own."
   ]
  },
  {
   "cell_type": "code",
   "execution_count": 60,
   "id": "431c382d-4d86-4736-8cf8-29eeb7c4430e",
   "metadata": {},
   "outputs": [],
   "source": [
    "x = np.array([2, 8, -4]) \n",
    "y = np.array([1, -7, 3])"
   ]
  },
  {
   "cell_type": "code",
   "execution_count": 61,
   "id": "2c524a97-c4ec-426b-bdf5-a21da4731703",
   "metadata": {},
   "outputs": [
    {
     "data": {
      "text/plain": [
       "-66"
      ]
     },
     "execution_count": 61,
     "metadata": {},
     "output_type": "execute_result"
    }
   ],
   "source": [
    "np.dot(x, y)"
   ]
  },
  {
   "cell_type": "code",
   "execution_count": 62,
   "id": "335a8bb0-d1cc-457a-925e-f1e324a0192e",
   "metadata": {},
   "outputs": [],
   "source": [
    "u = np.array([0, 2, 5,8])\n",
    "v = np.array([20, 3, 4, -1])"
   ]
  },
  {
   "cell_type": "code",
   "execution_count": 63,
   "id": "239eef17-77e2-467c-a5c3-e4b0c27ca6ac",
   "metadata": {},
   "outputs": [
    {
     "data": {
      "text/plain": [
       "18"
      ]
     },
     "execution_count": 63,
     "metadata": {},
     "output_type": "execute_result"
    }
   ],
   "source": [
    "np.dot(u, v)"
   ]
  },
  {
   "cell_type": "markdown",
   "id": "e2517f73-b19c-4128-acdd-4f25de6f0309",
   "metadata": {},
   "source": [
    "#### Scalar * Scalar\n",
    "\n",
    "This produces another scalar."
   ]
  },
  {
   "cell_type": "code",
   "execution_count": 64,
   "id": "be2bf7ea-04a6-4ac3-aeb2-e69c36da83b0",
   "metadata": {},
   "outputs": [
    {
     "data": {
      "text/plain": [
       "30"
      ]
     },
     "execution_count": 64,
     "metadata": {},
     "output_type": "execute_result"
    }
   ],
   "source": [
    "np.dot(5, 6)"
   ]
  },
  {
   "cell_type": "markdown",
   "id": "d23e419d-9958-4af3-8847-8f68e5399baf",
   "metadata": {},
   "source": [
    "#### Scalar * Vector\n",
    "\n",
    "This produces a vector with same length."
   ]
  },
  {
   "cell_type": "code",
   "execution_count": 65,
   "id": "39b9c363-1a14-4308-89c0-98b362529c41",
   "metadata": {},
   "outputs": [
    {
     "data": {
      "text/plain": [
       "array([ 2,  8, -4])"
      ]
     },
     "execution_count": 65,
     "metadata": {},
     "output_type": "execute_result"
    }
   ],
   "source": [
    "x"
   ]
  },
  {
   "cell_type": "code",
   "execution_count": 66,
   "id": "05e16def-0955-4210-8ea0-4f068c3a785b",
   "metadata": {},
   "outputs": [
    {
     "data": {
      "text/plain": [
       "array([ 10,  40, -20])"
      ]
     },
     "execution_count": 66,
     "metadata": {},
     "output_type": "execute_result"
    }
   ],
   "source": [
    "5*x"
   ]
  },
  {
   "cell_type": "markdown",
   "id": "81101e27-1bf7-4749-84ef-8875f9675085",
   "metadata": {},
   "source": [
    "When we multiply a vector by a scalar, we get a vector with the same length. The initial scalar has been scaled 5 times. Multiplication by a scalar doesn't change the shape but only the scale of the values."
   ]
  },
  {
   "cell_type": "markdown",
   "id": "a77c2656-7e0c-4606-9df5-1b4ba05f56d6",
   "metadata": {},
   "source": [
    "### Dot Product of Matrices\n",
    "\n",
    "#### Scalar * Matrix"
   ]
  },
  {
   "cell_type": "code",
   "execution_count": 67,
   "id": "ffe18818-061d-4bba-832d-f834bfcf1e57",
   "metadata": {},
   "outputs": [
    {
     "data": {
      "text/plain": [
       "array([[ 5, 12,  6],\n",
       "       [-3,  0, 14]])"
      ]
     },
     "execution_count": 67,
     "metadata": {},
     "output_type": "execute_result"
    }
   ],
   "source": [
    "A = np.array([[5, 12, 6], [-3, 0, 14]])\n",
    "A"
   ]
  },
  {
   "cell_type": "code",
   "execution_count": 68,
   "id": "8775a9b0-81b0-48a4-b490-504dc5cdcc23",
   "metadata": {},
   "outputs": [
    {
     "data": {
      "text/plain": [
       "array([[15, 36, 18],\n",
       "       [-9,  0, 42]])"
      ]
     },
     "execution_count": 68,
     "metadata": {},
     "output_type": "execute_result"
    }
   ],
   "source": [
    "3*A"
   ]
  },
  {
   "cell_type": "markdown",
   "id": "6253f725-739c-4752-9e08-1c22f98c5dce",
   "metadata": {},
   "source": [
    "#### Multiplying a matrix with another matrix\n",
    "\n",
    "Condition: We can only multiply an m x n with an n x k matrix. \n",
    "\n",
    "Note :\n",
    "1. Matrices are nothing more than a collection of vectors\n",
    "2. When we have a dot product, we always multiply a row vector times a column vector."
   ]
  },
  {
   "cell_type": "markdown",
   "id": "9d7013f4-68c8-4dcb-8257-0b60502e37de",
   "metadata": {},
   "source": [
    "#### Matrix * Matrix"
   ]
  },
  {
   "cell_type": "code",
   "execution_count": 69,
   "id": "2aae5322-ae13-4303-b7a5-89854b336ae9",
   "metadata": {},
   "outputs": [
    {
     "data": {
      "text/plain": [
       "array([[ 2, -1],\n",
       "       [ 8,  0],\n",
       "       [ 3,  0]])"
      ]
     },
     "execution_count": 69,
     "metadata": {},
     "output_type": "execute_result"
    }
   ],
   "source": [
    "#Example 1\n",
    "B = np.array([[2, -1], [8, 0], [3, 0]])\n",
    "B"
   ]
  },
  {
   "cell_type": "code",
   "execution_count": 70,
   "id": "0eb3c4bc-4d80-4f86-9050-488c7beebe82",
   "metadata": {},
   "outputs": [
    {
     "data": {
      "text/plain": [
       "array([[-12,   5,  -5,   1,   6],\n",
       "       [  6,  -2,   0,   0,  -3],\n",
       "       [ 10,   2,   0,   8,   0],\n",
       "       [  9,  -4,   8,   3,  -6]])"
      ]
     },
     "execution_count": 70,
     "metadata": {},
     "output_type": "execute_result"
    }
   ],
   "source": [
    "#Example 2\n",
    "C = np.array([[-12, 5, -5, 1, 6], [6, -2, 0, 0, -3], [10, 2, 0, 8, 0], [9, -4, 8, 3, -6]])\n",
    "C"
   ]
  },
  {
   "cell_type": "code",
   "execution_count": 71,
   "id": "31ccf908-a65f-42fb-86b1-8fc643824691",
   "metadata": {},
   "outputs": [
    {
     "data": {
      "text/plain": [
       "array([[ 6, -1],\n",
       "       [ 8, -4],\n",
       "       [ 2, -2],\n",
       "       [ 7,  4],\n",
       "       [-6, -9]])"
      ]
     },
     "execution_count": 71,
     "metadata": {},
     "output_type": "execute_result"
    }
   ],
   "source": [
    "D = np.array([[6, -1], [8, -4], [2, -2], [7, 4], [-6, -9]])\n",
    "D"
   ]
  },
  {
   "cell_type": "code",
   "execution_count": 72,
   "id": "10ab9ae4-c2f5-42b9-a903-8a269e9c6031",
   "metadata": {},
   "outputs": [
    {
     "data": {
      "text/plain": [
       "array([[-71, -48],\n",
       "       [ 38,  29],\n",
       "       [132,  14],\n",
       "       [ 95,  57]])"
      ]
     },
     "execution_count": 72,
     "metadata": {},
     "output_type": "execute_result"
    }
   ],
   "source": [
    "np.dot(C, D)"
   ]
  },
  {
   "cell_type": "markdown",
   "id": "e762bf98-209c-4f03-8a0b-7962d3ee439c",
   "metadata": {},
   "source": [
    "### Why is Linear Algebra Useful?\n",
    "\n",
    "In machine learning and linear regression, algorithms work using inputs, weight(coefficients) and outputs matrices\n",
    "\n",
    "Applications used in data science\n",
    "\n",
    "1. Vectorized code(array programming): \n",
    "\n",
    "The simplest and most commonly used. \n",
    "We use this whenever we are using linear algebra to compute many values simultaneously. It is much faster. The numpy library is used.\n",
    "\n",
    "2. Image recognition: \n",
    "\n",
    "Here, you take a photo, feed it into the algorithm and classify it. Examples are\n",
    ". MNIST dataset - the task is to classify handwritting digits\n",
    ". cIFAR 10 - the task is to classify animals and vehicles.\n",
    ". cIFAR 10o - where we have 100 different classify of images.\n",
    "\n",
    "The problem is that we cannot take a photo and give it to a computer. We must design a way to convert it to numbers before feeding the computer e.g pixels.\n",
    "\n",
    "We can use the RGB scale (Red, Green and Blue) for colored photo where the intensity of each color is 255.\n",
    "\n",
    "To represent a colored photo in a linear algebraic form, we combine matrices to get a tensor, one for each color\n",
    "\n",
    "3. Dimensionality reduction: \n",
    "\n",
    "Linear algebra provides us with fast and efficient ways to transform our initial matrix into a new matrix\n",
    "\n",
    "E.g imagine a survey where there is a total of 50 questions. Very often, we have too many variables that are not so different. We reduce the complexity of the problem by reducing the variables."
   ]
  },
  {
   "cell_type": "code",
   "execution_count": null,
   "id": "9a7acfc0-8688-43b8-9114-5c9b540c0f3d",
   "metadata": {},
   "outputs": [],
   "source": []
  }
 ],
 "metadata": {
  "kernelspec": {
   "display_name": "Python 3 (ipykernel)",
   "language": "python",
   "name": "python3"
  },
  "language_info": {
   "codemirror_mode": {
    "name": "ipython",
    "version": 3
   },
   "file_extension": ".py",
   "mimetype": "text/x-python",
   "name": "python",
   "nbconvert_exporter": "python",
   "pygments_lexer": "ipython3",
   "version": "3.10.9"
  }
 },
 "nbformat": 4,
 "nbformat_minor": 5
}
